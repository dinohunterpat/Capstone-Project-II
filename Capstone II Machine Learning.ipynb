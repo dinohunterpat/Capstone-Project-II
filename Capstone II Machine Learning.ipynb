{
 "cells": [
  {
   "cell_type": "markdown",
   "metadata": {},
   "source": [
    "# Machine Learning"
   ]
  },
  {
   "cell_type": "markdown",
   "metadata": {},
   "source": [
    "## Approach"
   ]
  },
  {
   "cell_type": "markdown",
   "metadata": {},
   "source": [
    "The machine learning for this Capstone project is comprised of regression analysis and Naive Bayes classification. The regression analysis of both multivariate and forest types will determine demographic factors affecting the questionnaire score. Naive Bayes classification will determine the probability of ASD diagnosis depending on demographics. "
   ]
  },
  {
   "cell_type": "code",
   "execution_count": 805,
   "metadata": {
    "scrolled": false
   },
   "outputs": [
    {
     "data": {
      "text/html": [
       "<div>\n",
       "<style scoped>\n",
       "    .dataframe tbody tr th:only-of-type {\n",
       "        vertical-align: middle;\n",
       "    }\n",
       "\n",
       "    .dataframe tbody tr th {\n",
       "        vertical-align: top;\n",
       "    }\n",
       "\n",
       "    .dataframe thead th {\n",
       "        text-align: right;\n",
       "    }\n",
       "</style>\n",
       "<table border=\"1\" class=\"dataframe\">\n",
       "  <thead>\n",
       "    <tr style=\"text-align: right;\">\n",
       "      <th></th>\n",
       "      <th>A1 Score</th>\n",
       "      <th>A2 Score</th>\n",
       "      <th>A3 Score</th>\n",
       "      <th>A4 Score</th>\n",
       "      <th>A5 Score</th>\n",
       "      <th>A6 Score</th>\n",
       "      <th>A7 Score</th>\n",
       "      <th>A8 Score</th>\n",
       "      <th>A9 Score</th>\n",
       "      <th>A10 Score</th>\n",
       "      <th>Age</th>\n",
       "      <th>Gender</th>\n",
       "      <th>Ethnicity</th>\n",
       "      <th>Jaundice</th>\n",
       "      <th>Autism in Family</th>\n",
       "      <th>Country of Residence</th>\n",
       "      <th>Used App Before</th>\n",
       "      <th>Result</th>\n",
       "      <th>Age Description</th>\n",
       "      <th>Relation to Patient</th>\n",
       "      <th>ASD</th>\n",
       "      <th>Ethnicity code</th>\n",
       "      <th>Gender code</th>\n",
       "      <th>Gender Cleaned</th>\n",
       "      <th>code</th>\n",
       "    </tr>\n",
       "  </thead>\n",
       "  <tbody>\n",
       "    <tr>\n",
       "      <th>0</th>\n",
       "      <td>1</td>\n",
       "      <td>1</td>\n",
       "      <td>1</td>\n",
       "      <td>1</td>\n",
       "      <td>0</td>\n",
       "      <td>0</td>\n",
       "      <td>1</td>\n",
       "      <td>1</td>\n",
       "      <td>0</td>\n",
       "      <td>0</td>\n",
       "      <td>26</td>\n",
       "      <td>F</td>\n",
       "      <td>White-European</td>\n",
       "      <td>no</td>\n",
       "      <td>no</td>\n",
       "      <td>United States</td>\n",
       "      <td>no</td>\n",
       "      <td>6</td>\n",
       "      <td>18 and more</td>\n",
       "      <td>Self</td>\n",
       "      <td>NO</td>\n",
       "      <td>1</td>\n",
       "      <td>1</td>\n",
       "      <td>1</td>\n",
       "      <td>9</td>\n",
       "    </tr>\n",
       "    <tr>\n",
       "      <th>1</th>\n",
       "      <td>1</td>\n",
       "      <td>1</td>\n",
       "      <td>0</td>\n",
       "      <td>1</td>\n",
       "      <td>0</td>\n",
       "      <td>0</td>\n",
       "      <td>0</td>\n",
       "      <td>1</td>\n",
       "      <td>0</td>\n",
       "      <td>1</td>\n",
       "      <td>24</td>\n",
       "      <td>M</td>\n",
       "      <td>Hispanic/Latino</td>\n",
       "      <td>no</td>\n",
       "      <td>yes</td>\n",
       "      <td>Brazil</td>\n",
       "      <td>no</td>\n",
       "      <td>5</td>\n",
       "      <td>18 and more</td>\n",
       "      <td>Self</td>\n",
       "      <td>NO</td>\n",
       "      <td>2</td>\n",
       "      <td>2</td>\n",
       "      <td>0</td>\n",
       "      <td>2</td>\n",
       "    </tr>\n",
       "    <tr>\n",
       "      <th>2</th>\n",
       "      <td>1</td>\n",
       "      <td>1</td>\n",
       "      <td>0</td>\n",
       "      <td>1</td>\n",
       "      <td>1</td>\n",
       "      <td>0</td>\n",
       "      <td>1</td>\n",
       "      <td>1</td>\n",
       "      <td>1</td>\n",
       "      <td>1</td>\n",
       "      <td>27</td>\n",
       "      <td>M</td>\n",
       "      <td>Hispanic/Latino</td>\n",
       "      <td>yes</td>\n",
       "      <td>yes</td>\n",
       "      <td>Spain</td>\n",
       "      <td>no</td>\n",
       "      <td>8</td>\n",
       "      <td>18 and more</td>\n",
       "      <td>Parent</td>\n",
       "      <td>YES</td>\n",
       "      <td>2</td>\n",
       "      <td>2</td>\n",
       "      <td>0</td>\n",
       "      <td>2</td>\n",
       "    </tr>\n",
       "    <tr>\n",
       "      <th>3</th>\n",
       "      <td>1</td>\n",
       "      <td>1</td>\n",
       "      <td>0</td>\n",
       "      <td>1</td>\n",
       "      <td>0</td>\n",
       "      <td>0</td>\n",
       "      <td>1</td>\n",
       "      <td>1</td>\n",
       "      <td>0</td>\n",
       "      <td>1</td>\n",
       "      <td>35</td>\n",
       "      <td>F</td>\n",
       "      <td>White-European</td>\n",
       "      <td>no</td>\n",
       "      <td>yes</td>\n",
       "      <td>United States</td>\n",
       "      <td>no</td>\n",
       "      <td>6</td>\n",
       "      <td>18 and more</td>\n",
       "      <td>Self</td>\n",
       "      <td>NO</td>\n",
       "      <td>1</td>\n",
       "      <td>1</td>\n",
       "      <td>1</td>\n",
       "      <td>9</td>\n",
       "    </tr>\n",
       "    <tr>\n",
       "      <th>4</th>\n",
       "      <td>1</td>\n",
       "      <td>0</td>\n",
       "      <td>0</td>\n",
       "      <td>0</td>\n",
       "      <td>0</td>\n",
       "      <td>0</td>\n",
       "      <td>0</td>\n",
       "      <td>1</td>\n",
       "      <td>0</td>\n",
       "      <td>0</td>\n",
       "      <td>40</td>\n",
       "      <td>F</td>\n",
       "      <td>Not Available</td>\n",
       "      <td>no</td>\n",
       "      <td>no</td>\n",
       "      <td>Egypt</td>\n",
       "      <td>no</td>\n",
       "      <td>2</td>\n",
       "      <td>18 and more</td>\n",
       "      <td>Not Available</td>\n",
       "      <td>NO</td>\n",
       "      <td>3</td>\n",
       "      <td>1</td>\n",
       "      <td>1</td>\n",
       "      <td>4</td>\n",
       "    </tr>\n",
       "  </tbody>\n",
       "</table>\n",
       "</div>"
      ],
      "text/plain": [
       "   A1 Score  A2 Score  A3 Score  A4 Score  A5 Score  A6 Score  A7 Score  \\\n",
       "0         1         1         1         1         0         0         1   \n",
       "1         1         1         0         1         0         0         0   \n",
       "2         1         1         0         1         1         0         1   \n",
       "3         1         1         0         1         0         0         1   \n",
       "4         1         0         0         0         0         0         0   \n",
       "\n",
       "   A8 Score  A9 Score  A10 Score Age Gender        Ethnicity Jaundice  \\\n",
       "0         1         0          0  26      F   White-European       no   \n",
       "1         1         0          1  24      M  Hispanic/Latino       no   \n",
       "2         1         1          1  27      M  Hispanic/Latino      yes   \n",
       "3         1         0          1  35      F   White-European       no   \n",
       "4         1         0          0  40      F    Not Available       no   \n",
       "\n",
       "  Autism in Family Country of Residence Used App Before  Result  \\\n",
       "0               no        United States              no       6   \n",
       "1              yes               Brazil              no       5   \n",
       "2              yes                Spain              no       8   \n",
       "3              yes        United States              no       6   \n",
       "4               no                Egypt              no       2   \n",
       "\n",
       "  Age Description Relation to Patient  ASD  Ethnicity code  Gender code  \\\n",
       "0     18 and more                Self   NO               1            1   \n",
       "1     18 and more                Self   NO               2            2   \n",
       "2     18 and more              Parent  YES               2            2   \n",
       "3     18 and more                Self   NO               1            1   \n",
       "4     18 and more       Not Available   NO               3            1   \n",
       "\n",
       "   Gender Cleaned  code  \n",
       "0               1     9  \n",
       "1               0     2  \n",
       "2               0     2  \n",
       "3               1     9  \n",
       "4               1     4  "
      ]
     },
     "execution_count": 805,
     "metadata": {},
     "output_type": "execute_result"
    }
   ],
   "source": [
    "# Import Data\n",
    "%store -r autism_data\n",
    "autism_data.head()"
   ]
  },
  {
   "cell_type": "markdown",
   "metadata": {},
   "source": [
    "## Regression Analysis of Score"
   ]
  },
  {
   "cell_type": "markdown",
   "metadata": {},
   "source": [
    "### Multi-Variate"
   ]
  },
  {
   "cell_type": "markdown",
   "metadata": {},
   "source": [
    "The machine learning process of the data is comprised of linear regression and R2 analysis. Linear regression offers many advantages like the flexibility in working with smaller datasets, the ability to provide a fitted regression line showing relationship between independent and dependent variables, and the expediency of providing results. This linear regression is used to test whether the independent variables, which are the gender and ethnicity, show correlation with the ASD score. The linear regression module could then be used to generate a linear equation with the box office parameters as variables.\n",
    "\n",
    "After performing linear regression, R2 analysis was used in determining how closely the predicted data points adhere to the fitted regression. The independent and dependent variables are each split into training and testing portions with the training portions becoming fitted to a regressor. The regressor in turn is used for predicting the output dependent variable based test portion of the independent variable. These values are then used for computing R2 score and Residual Mean Square Error (RMSE); an R2 value closer to 1 would indicate close adherence to the fitted regression while a low RMSE score indicates that there is little deviation. R2 means error (RSME) of relatively low value would suggest that the predicted data reliably adheres to the fitted regression pattern."
   ]
  },
  {
   "cell_type": "code",
   "execution_count": 510,
   "metadata": {},
   "outputs": [],
   "source": [
    "# Import necessary modules\n",
    "import numpy as np\n",
    "import matplotlib.pyplot as plt\n",
    "import pandas as pd\n",
    "from collections import Counter\n",
    "import seaborn as sns\n",
    "import scipy as sp\n",
    "from sklearn.metrics import mean_squared_error,confusion_matrix, classification_report\n",
    "from sklearn.model_selection import train_test_split,cross_val_score\n",
    "from sklearn.linear_model import LinearRegression,LogisticRegression"
   ]
  },
  {
   "cell_type": "code",
   "execution_count": 293,
   "metadata": {
    "collapsed": true
   },
   "outputs": [
    {
     "data": {
      "text/plain": [
       "Gender  ASD\n",
       "F       NO     234\n",
       "        YES    103\n",
       "M       NO     281\n",
       "        YES     86\n",
       "Name: ASD, dtype: int64"
      ]
     },
     "execution_count": 293,
     "metadata": {},
     "output_type": "execute_result"
    }
   ],
   "source": [
    "autism_data.groupby(by=['Gender','ASD'])['ASD'].count()"
   ]
  },
  {
   "cell_type": "code",
   "execution_count": 324,
   "metadata": {
    "collapsed": true
   },
   "outputs": [
    {
     "data": {
      "text/plain": [
       "ASD\n",
       "NO     515\n",
       "YES    189\n",
       "Name: ASD, dtype: int64"
      ]
     },
     "execution_count": 324,
     "metadata": {},
     "output_type": "execute_result"
    }
   ],
   "source": [
    "autism_data.groupby(by=['ASD'])['ASD'].count()"
   ]
  },
  {
   "cell_type": "code",
   "execution_count": 874,
   "metadata": {},
   "outputs": [
    {
     "name": "stdout",
     "output_type": "stream",
     "text": [
      "['A1 Score', 'A2 Score', 'A3 Score', 'A4 Score', 'A5 Score', 'A6 Score', 'A7 Score', 'A8 Score', 'A9 Score', 'A10 Score', 'Result', 'Ethnicity code', 'Gender code', 'Gender Cleaned', 'code', 'Age_17', 'Age_18', 'Age_19', 'Age_20', 'Age_21', 'Age_22', 'Age_23', 'Age_24', 'Age_25', 'Age_26', 'Age_27', 'Age_28', 'Age_29', 'Age_30', 'Age_31', 'Age_32', 'Age_33', 'Age_34', 'Age_35', 'Age_36', 'Age_37', 'Age_38', 'Age_383', 'Age_39', 'Age_40', 'Age_41', 'Age_42', 'Age_43', 'Age_44', 'Age_45', 'Age_46', 'Age_47', 'Age_48', 'Age_49', 'Age_50', 'Age_51', 'Age_52', 'Age_53', 'Age_54', 'Age_55', 'Age_56', 'Age_58', 'Age_59', 'Age_60', 'Age_61', 'Age_64', 'Age_Not Available', 'Gender_F', 'Gender_M', 'Ethnicity_Asian', 'Ethnicity_Black', 'Ethnicity_Hispanic/Latino', 'Ethnicity_Middle Eastern ', 'Ethnicity_Not Available', 'Ethnicity_Oceania', 'Ethnicity_Other', 'Ethnicity_South Asian', 'Ethnicity_Turkish', 'Ethnicity_White-European', 'Jaundice_no', 'Jaundice_yes', 'Autism in Family_no', 'Autism in Family_yes', 'Country of Residence_Afghanistan', 'Country of Residence_AmericanSamoa', 'Country of Residence_Angola', 'Country of Residence_Argentina', 'Country of Residence_Armenia', 'Country of Residence_Aruba', 'Country of Residence_Australia', 'Country of Residence_Austria', 'Country of Residence_Azerbaijan', 'Country of Residence_Bahamas', 'Country of Residence_Bangladesh', 'Country of Residence_Belgium', 'Country of Residence_Bolivia', 'Country of Residence_Brazil', 'Country of Residence_Burundi', 'Country of Residence_Canada', 'Country of Residence_Chile', 'Country of Residence_China', 'Country of Residence_Costa Rica', 'Country of Residence_Cyprus', 'Country of Residence_Czech Republic', 'Country of Residence_Ecuador', 'Country of Residence_Egypt', 'Country of Residence_Ethiopia', 'Country of Residence_Finland', 'Country of Residence_France', 'Country of Residence_Germany', 'Country of Residence_Hong Kong', 'Country of Residence_Iceland', 'Country of Residence_India', 'Country of Residence_Indonesia', 'Country of Residence_Iran', 'Country of Residence_Iraq', 'Country of Residence_Ireland', 'Country of Residence_Italy', 'Country of Residence_Japan', 'Country of Residence_Jordan', 'Country of Residence_Kazakhstan', 'Country of Residence_Lebanon', 'Country of Residence_Malaysia', 'Country of Residence_Mexico', 'Country of Residence_Nepal', 'Country of Residence_Netherlands', 'Country of Residence_New Zealand', 'Country of Residence_Nicaragua', 'Country of Residence_Niger', 'Country of Residence_Oman', 'Country of Residence_Pakistan', 'Country of Residence_Philippines', 'Country of Residence_Portugal', 'Country of Residence_Romania', 'Country of Residence_Russia', 'Country of Residence_Saudi Arabia', 'Country of Residence_Serbia', 'Country of Residence_Sierra Leone', 'Country of Residence_South Africa', 'Country of Residence_Spain', 'Country of Residence_Sri Lanka', 'Country of Residence_Sweden', 'Country of Residence_Tonga', 'Country of Residence_Turkey', 'Country of Residence_Ukraine', 'Country of Residence_United Arab Emirates', 'Country of Residence_United Kingdom', 'Country of Residence_United States', 'Country of Residence_Uruguay', 'Country of Residence_Viet Nam', 'Used App Before_no', 'Used App Before_yes', 'Age Description_18 and more', 'Relation to Patient_Health care professional', 'Relation to Patient_Not Available', 'Relation to Patient_Others', 'Relation to Patient_Parent', 'Relation to Patient_Relative', 'Relation to Patient_Self', 'ASD_NO', 'ASD_YES']\n"
     ]
    }
   ],
   "source": [
    "print(list(reg_df.columns.values))"
   ]
  },
  {
   "cell_type": "code",
   "execution_count": 904,
   "metadata": {
    "scrolled": false
   },
   "outputs": [
    {
     "name": "stdout",
     "output_type": "stream",
     "text": [
      "Intercept: 5.819554403213065\n",
      "Coefficients: [-0.12348167  0.05134414  0.32710824  0.08378407 -0.37542678 -0.42724956\n",
      "  0.32835072 -0.23953371  0.01964361  0.35546095 -0.04699524  0.04699524\n",
      "  2.22539127 -2.22539127]\n",
      "R^2 Value: 0.6901354647246482\n",
      "Root Mean Squared Error: 1.36484427969571\n"
     ]
    }
   ],
   "source": [
    "# Linear Regression\n",
    "reg_df = pd.get_dummies(autism_data)\n",
    "x = reg_df[['Ethnicity_Asian', 'Ethnicity_Black', 'Ethnicity_Hispanic/Latino',\n",
    "                 'Ethnicity_Middle Eastern ', 'Ethnicity_Not Available', 'Ethnicity_Oceania', \n",
    "                 'Ethnicity_Other', 'Ethnicity_South Asian', 'Ethnicity_Turkish', \n",
    "                 'Ethnicity_White-European','Gender_F', 'Gender_M','ASD_YES','ASD_NO']]\n",
    "y = reg_df['Result']\n",
    "reg = LinearRegression()\n",
    "X_train, X_test, y_train, y_test = train_test_split(x, y, test_size = 0.3, random_state=42)\n",
    "reg.fit(X_train,y_train)\n",
    "print(\"Intercept: {}\".format(reg.intercept_))\n",
    "print(\"Coefficients: {}\".format(reg.coef_))\n",
    "y_pred = reg.predict(X_test)\n",
    "rmse = np.sqrt(mean_squared_error(y_test,y_pred))\n",
    "print(\"R^2 Value: {}\".format(reg.score(X_test, y_test)))\n",
    "print(\"Root Mean Squared Error: {}\".format(rmse))\n"
   ]
  },
  {
   "cell_type": "markdown",
   "metadata": {},
   "source": [
    "The linear regression model of the ethnicity and gender variables can determine which demographic affects scoring the most. The parameters for this model are limited to ethnicity, gender, and austism diagnosis. Although additional paramters like age and country of residence were considered, these parameters were ommitted since they greatly skewed the R^2 into a negative value and increased the RMSE. The model's relatively high R^2 value and low RMSE suggests that this is a reliable model. Furthermore, the relatively higher coefficient values for White European ethnicity and individuals with ASD suggests that these are the most likely to result in a higher questionnaire score. Subsequently, one could infer that people with ASD and White Europeans are the most likely to show symptoms of autism."
   ]
  },
  {
   "cell_type": "markdown",
   "metadata": {},
   "source": [
    "### Forest"
   ]
  },
  {
   "cell_type": "markdown",
   "metadata": {},
   "source": [
    "Random forest regression was utilized as an alternative for finding the impact of demographics on scoring. Random forest itself is an aggregation of multiple decision trees, each of which shows branching paths to possible outcomes based on certain criteria (nodes). Based on these different outcomes, the random forest regression can be used to the probability of these outcomes occuring. In this case, this type of machine learning is used for determining the likelihood of the different demographic factors that affect scoring."
   ]
  },
  {
   "cell_type": "code",
   "execution_count": 603,
   "metadata": {
    "scrolled": true
   },
   "outputs": [],
   "source": [
    "# Import Modules\n",
    "import numpy as np\n",
    "import pandas as pd\n",
    "from sklearn.ensemble import RandomForestRegressor\n",
    "from sklearn.model_selection import train_test_split\n",
    "import matplotlib.pyplot as plt\n",
    "from sklearn.tree import export_graphviz"
   ]
  },
  {
   "cell_type": "code",
   "execution_count": 608,
   "metadata": {
    "scrolled": false
   },
   "outputs": [],
   "source": [
    "# Convert to Dummy Variables\n",
    "whole_set = pd.get_dummies(autism_data)\n",
    "features = whole_set[['Ethnicity_Asian', 'Ethnicity_Black', 'Ethnicity_Hispanic/Latino',\n",
    "       'Ethnicity_Middle Eastern ', 'Ethnicity_Not Available',\n",
    "       'Ethnicity_Oceania', 'Ethnicity_Other', 'Ethnicity_South Asian',\n",
    "       'Ethnicity_Turkish', 'Ethnicity_White-European','Gender_F','Gender_M','Result']]"
   ]
  },
  {
   "cell_type": "code",
   "execution_count": 173,
   "metadata": {
    "scrolled": false
   },
   "outputs": [],
   "source": [
    "# Labels are the values we want to predict\n",
    "labels = np.array(features['Result'])\n",
    "# Remove the labels from the features\n",
    "features = features.drop('Result', axis = 1)\n",
    "# Saving feature names for later use\n",
    "feature_list = list(features.columns[pd.Series(features.columns).str.startswith('Ethnicity')])+list(features.columns[pd.Series(features.columns).str.startswith('Gender')])\n",
    "# Convert to numpy array\n",
    "features = np.array(features)"
   ]
  },
  {
   "cell_type": "code",
   "execution_count": 174,
   "metadata": {
    "scrolled": true
   },
   "outputs": [],
   "source": [
    "# Train data\n",
    "train_features, test_features, train_labels, test_labels = train_test_split(features, labels, test_size = 0.25, random_state = 42)"
   ]
  },
  {
   "cell_type": "code",
   "execution_count": 175,
   "metadata": {
    "scrolled": true
   },
   "outputs": [
    {
     "name": "stdout",
     "output_type": "stream",
     "text": [
      "Average baseline error:  2.07\n"
     ]
    }
   ],
   "source": [
    "# Baseline errors, and display average baseline error\n",
    "baseline_errors = abs(np.mean(autism_data['Result']) - test_labels)\n",
    "print('Average baseline error: ', round(np.mean(baseline_errors), 2))"
   ]
  },
  {
   "cell_type": "code",
   "execution_count": 176,
   "metadata": {
    "scrolled": false
   },
   "outputs": [],
   "source": [
    "# Instantiate model with 1000 decision trees and train model on training data\n",
    "rf = RandomForestRegressor(n_estimators = 1000, random_state = 42)\n",
    "rf = rf.fit(train_features, train_labels)"
   ]
  },
  {
   "cell_type": "code",
   "execution_count": 177,
   "metadata": {},
   "outputs": [
    {
     "name": "stdout",
     "output_type": "stream",
     "text": [
      "Mean Absolute Error: 1.91 degrees.\n"
     ]
    }
   ],
   "source": [
    "# Make Predictions\n",
    "# Use the forest's predict method on the test data and calculate mean absolute reoor\n",
    "predictions = rf.predict(test_features)\n",
    "errors = abs(predictions - test_labels)\n",
    "print('Mean Absolute Error:', round(np.mean(errors), 2), 'degrees.')"
   ]
  },
  {
   "cell_type": "code",
   "execution_count": 179,
   "metadata": {
    "scrolled": false
   },
   "outputs": [
    {
     "name": "stdout",
     "output_type": "stream",
     "text": [
      "Variable: Ethnicity_White-European Importance: 0.53\n",
      "Variable: Ethnicity_Hispanic/Latino Importance: 0.13\n",
      "Variable: Ethnicity_Black      Importance: 0.09\n",
      "Variable: Ethnicity_Other      Importance: 0.05\n",
      "Variable: Ethnicity_Not Available Importance: 0.04\n",
      "Variable: Gender_F             Importance: 0.04\n",
      "Variable: Gender_M             Importance: 0.04\n",
      "Variable: Ethnicity_Oceania    Importance: 0.02\n",
      "Variable: Ethnicity_Asian      Importance: 0.01\n",
      "Variable: Ethnicity_Middle Eastern  Importance: 0.01\n",
      "Variable: Ethnicity_South Asian Importance: 0.01\n",
      "Variable: Ethnicity_Turkish    Importance: 0.01\n"
     ]
    }
   ],
   "source": [
    "importances = list(rf.feature_importances_)\n",
    "# List of tuples with variable and importance\n",
    "feature_importances = [(feature, round(importance, 2)) for feature, importance in zip(feature_list, importances)]\n",
    "# Sort the feature importances by most important first\n",
    "feature_importances = sorted(feature_importances, key = lambda x: x[1], reverse = True)\n",
    "# Print out the feature and importances \n",
    "[print('Variable: {:20} Importance: {}'.format(*pair)) for pair in feature_importances];"
   ]
  },
  {
   "cell_type": "code",
   "execution_count": 181,
   "metadata": {
    "scrolled": true
   },
   "outputs": [
    {
     "data": {
      "image/png": "[encoded data removed]",
      "text/plain": [
       "<Figure size 432x288 with 1 Axes>"
      ]
     },
     "metadata": {},
     "output_type": "display_data"
    }
   ],
   "source": [
    "# Import matplotlib for plotting and use magic command for Jupyter Notebooks\n",
    "import matplotlib.pyplot as plt\n",
    "%matplotlib inline\n",
    "plt.style.use('fivethirtyeight')\n",
    "x_values = list(range(len(importances)))\n",
    "plt.bar(x_values, importances, orientation = 'vertical')\n",
    "plt.xticks(x_values, feature_list, rotation='vertical')\n",
    "plt.ylabel('Importance'); plt.xlabel('Demographic Variables'); plt.title('Variable Importances');"
   ]
  },
  {
   "cell_type": "markdown",
   "metadata": {},
   "source": [
    "The random forest test shows that gender and most ethnicities don't have a major impact on the questionnaire scores. However, White Europeans have the highest impact on scoring at 51%. As such, this suggest White Europeans are more likely to show symptoms of ASD."
   ]
  },
  {
   "cell_type": "markdown",
   "metadata": {},
   "source": [
    "## Classification for Predicting Probability of ASD"
   ]
  },
  {
   "cell_type": "markdown",
   "metadata": {},
   "source": [
    "### Naive Bayes"
   ]
  },
  {
   "cell_type": "markdown",
   "metadata": {},
   "source": [
    "Naive Bayes (NB) is a classifier that determines the likelihood of an event occurring. For this project, the NB will determine the probability that an autstic individual belongs to a specific demographic. Multinomial NB is used for ethnicity (allows multiple variables) while Bernoulli NB is used for gender (works best for binary variables).  "
   ]
  },
  {
   "cell_type": "code",
   "execution_count": 657,
   "metadata": {},
   "outputs": [],
   "source": [
    "from sklearn.model_selection import train_test_split\n",
    "import numpy as np\n",
    "import scipy as sp\n",
    "import matplotlib as mpl\n",
    "import matplotlib.cm as cm\n",
    "import matplotlib.pyplot as plt\n",
    "import pandas as pd\n",
    "import seaborn as sns\n",
    "from six.moves import range\n",
    "from matplotlib.colors import ListedColormap\n",
    "from sklearn.feature_extraction.text import CountVectorizer\n",
    "from sklearn.model_selection import train_test_split\n",
    "from sklearn.naive_bayes import MultinomialNB\n",
    "from sklearn.naive_bayes import BernoulliNB"
   ]
  },
  {
   "cell_type": "code",
   "execution_count": 658,
   "metadata": {},
   "outputs": [
    {
     "name": "stdout",
     "output_type": "stream",
     "text": [
      "The training accuracy score is 0.73\n",
      "The testing accuracy score is 0.73\n"
     ]
    }
   ],
   "source": [
    "# Test classifier\n",
    "x = autism_data[\"Ethnicity code\"]\n",
    "x = x.values.reshape(-1,1)\n",
    "y = (autism_data.ASD == 'YES').values.astype(np.int)\n",
    "x_training, x_testing, y_training, y_testing = train_test_split(x,y)\n",
    "clf = MultinomialNB().fit(x_training, y_training)\n",
    "print(\"The training accuracy score is {:0.2f}\".format(clf.score(x_training,y_training)))\n",
    "print(\"The testing accuracy score is {:0.2f}\".format(clf.score(x_testing,y_testing)))"
   ]
  },
  {
   "cell_type": "code",
   "execution_count": 654,
   "metadata": {
    "collapsed": true
   },
   "outputs": [
    {
     "data": {
      "text/plain": [
       "Ethnicity code  Ethnicity      \n",
       "1               White-European     233\n",
       "2               Hispanic/Latino     33\n",
       "3               Not Available       96\n",
       "4               Other               30\n",
       "5               Black               43\n",
       "6               Asian              123\n",
       "7               Middle Eastern      92\n",
       "8               Oceania             12\n",
       "9               South Asian         36\n",
       "10              Turkish              6\n",
       "Name: Ethnicity, dtype: int64"
      ]
     },
     "execution_count": 654,
     "metadata": {},
     "output_type": "execute_result"
    }
   ],
   "source": [
    "autism_data.groupby(by=['Ethnicity code','Ethnicity'])['Ethnicity'].count()"
   ]
  },
  {
   "cell_type": "code",
   "execution_count": 726,
   "metadata": {
    "scrolled": true
   },
   "outputs": [],
   "source": [
    "# Create Pandas column of ethnicities\n",
    "ethnic_names = list(autism_data['Ethnicity'].unique())\n",
    "df1 = pd.DataFrame(ethnic_names)"
   ]
  },
  {
   "cell_type": "code",
   "execution_count": 738,
   "metadata": {},
   "outputs": [],
   "source": [
    "# Create Pandas column of ethnicities comprising the ASD population\n",
    "percentage_of_ASD_w_ethnicity = []\n",
    "for i in range(1,11):\n",
    "    percentage_of_ASD_w_ethnicity.append(100*np.mean(x_testing==i))\n",
    "df2 = pd.DataFrame(percentage_of_ASD_with_ethnicity)"
   ]
  },
  {
   "cell_type": "code",
   "execution_count": 728,
   "metadata": {
    "scrolled": true
   },
   "outputs": [],
   "source": [
    "# Create Pandas column of proportions of ethnicies with ASD\n",
    "Ethnicity_pop = []\n",
    "for i in autism_data.groupby(by=['Ethnicity code','Ethnicity'])['Ethnicity'].count():\n",
    "    Ethnicity_pop.append(i)\n",
    "ethnicity_numpy = np.array(Ethnicity_pop,dtype=np.float)\n",
    "percentage_numpy = np.array(percentage_of_ASD_with_ethnicity,dtype=np.float)\n",
    "percentage_of_ethnicity_with_ASD = []\n",
    "ddd = (189*percentage_numpy)/ethnicity_numpy\n",
    "for i in ddd:\n",
    "    percentage_of_ethnicity_with_ASD.append(i)\n",
    "df3 = pd.DataFrame(percentage_of_ethnicity_with_ASD)"
   ]
  },
  {
   "cell_type": "code",
   "execution_count": 729,
   "metadata": {
    "scrolled": false
   },
   "outputs": [
    {
     "data": {
      "text/html": [
       "<div>\n",
       "<style scoped>\n",
       "    .dataframe tbody tr th:only-of-type {\n",
       "        vertical-align: middle;\n",
       "    }\n",
       "\n",
       "    .dataframe tbody tr th {\n",
       "        vertical-align: top;\n",
       "    }\n",
       "\n",
       "    .dataframe thead th {\n",
       "        text-align: right;\n",
       "    }\n",
       "</style>\n",
       "<table border=\"1\" class=\"dataframe\">\n",
       "  <thead>\n",
       "    <tr style=\"text-align: right;\">\n",
       "      <th></th>\n",
       "      <th>Ethnicity</th>\n",
       "      <th>Proportion of Autistics Comprised of Ethnic Group</th>\n",
       "      <th>Proportion of Ethnic Group with Autism</th>\n",
       "    </tr>\n",
       "  </thead>\n",
       "  <tbody>\n",
       "    <tr>\n",
       "      <th>0</th>\n",
       "      <td>White-European</td>\n",
       "      <td>33.522727</td>\n",
       "      <td>27.192255</td>\n",
       "    </tr>\n",
       "    <tr>\n",
       "      <th>1</th>\n",
       "      <td>Hispanic/Latino</td>\n",
       "      <td>7.954545</td>\n",
       "      <td>45.557851</td>\n",
       "    </tr>\n",
       "    <tr>\n",
       "      <th>2</th>\n",
       "      <td>Not Available</td>\n",
       "      <td>11.931818</td>\n",
       "      <td>23.490767</td>\n",
       "    </tr>\n",
       "    <tr>\n",
       "      <th>3</th>\n",
       "      <td>Other</td>\n",
       "      <td>2.272727</td>\n",
       "      <td>14.318182</td>\n",
       "    </tr>\n",
       "    <tr>\n",
       "      <th>4</th>\n",
       "      <td>Black</td>\n",
       "      <td>5.681818</td>\n",
       "      <td>24.973573</td>\n",
       "    </tr>\n",
       "    <tr>\n",
       "      <th>5</th>\n",
       "      <td>Asian</td>\n",
       "      <td>21.590909</td>\n",
       "      <td>33.176275</td>\n",
       "    </tr>\n",
       "    <tr>\n",
       "      <th>6</th>\n",
       "      <td>Middle Eastern</td>\n",
       "      <td>12.500000</td>\n",
       "      <td>25.679348</td>\n",
       "    </tr>\n",
       "    <tr>\n",
       "      <th>7</th>\n",
       "      <td>Oceania</td>\n",
       "      <td>0.568182</td>\n",
       "      <td>8.948864</td>\n",
       "    </tr>\n",
       "    <tr>\n",
       "      <th>8</th>\n",
       "      <td>South Asian</td>\n",
       "      <td>3.977273</td>\n",
       "      <td>20.880682</td>\n",
       "    </tr>\n",
       "    <tr>\n",
       "      <th>9</th>\n",
       "      <td>Turkish</td>\n",
       "      <td>0.000000</td>\n",
       "      <td>0.000000</td>\n",
       "    </tr>\n",
       "  </tbody>\n",
       "</table>\n",
       "</div>"
      ],
      "text/plain": [
       "         Ethnicity  Proportion of Autistics Comprised of Ethnic Group  \\\n",
       "0   White-European                                          33.522727   \n",
       "1  Hispanic/Latino                                           7.954545   \n",
       "2    Not Available                                          11.931818   \n",
       "3            Other                                           2.272727   \n",
       "4            Black                                           5.681818   \n",
       "5            Asian                                          21.590909   \n",
       "6  Middle Eastern                                           12.500000   \n",
       "7          Oceania                                           0.568182   \n",
       "8      South Asian                                           3.977273   \n",
       "9          Turkish                                           0.000000   \n",
       "\n",
       "   Proportion of Ethnic Group with Autism  \n",
       "0                               27.192255  \n",
       "1                               45.557851  \n",
       "2                               23.490767  \n",
       "3                               14.318182  \n",
       "4                               24.973573  \n",
       "5                               33.176275  \n",
       "6                               25.679348  \n",
       "7                                8.948864  \n",
       "8                               20.880682  \n",
       "9                                0.000000  "
      ]
     },
     "execution_count": 729,
     "metadata": {},
     "output_type": "execute_result"
    }
   ],
   "source": [
    "# Create main data frame\n",
    "result = pd.concat([df1,df2,df3],axis=1)\n",
    "new_title = ['Ethnicity', 'Proportion of Autistics Comprised of Ethnic Group', 'Proportion of Ethnic Group with Autism']\n",
    "result.columns = new_title\n",
    "result"
   ]
  },
  {
   "cell_type": "markdown",
   "metadata": {},
   "source": [
    "The percentage of autistics who are White-European is 33.52%. The percentage of White-European who are autistics is 27.19%.\n",
    "\n",
    "The percentage of autistics who are Hispanic/Latino is 7.958%. The percentage of Hispanic/Latino who are autistics is 45.55%.\n",
    "\n",
    "The percentage of autistics who are Not Available is 11.93%. The percentage of Not Available who are autistics is 23.49%.\n",
    "\n",
    "The percentage of autistics who are Other is 2.27%. The percentage of Other who are autistics is 14.32%.\n",
    "\n",
    "The percentage of autistics who are Black is 5.68%. The percentage of Black who are autistics is 24.97%.\n",
    "\n",
    "The percentage of autistics who are Asian is 21.59%. The percentage of Asian who are autistics is 33.18%.\n",
    "\n",
    "The percentage of autistics who are Middle Eastern is 12.5%. The percentage of Middle Eastern who are autistics is 25.68%.\n",
    "\n",
    "The percentage of autistics who are Oceania is 0.57%. The percentage of Oceania who are autistics is 8.95%.\n",
    "\n",
    "The percentage of autistics who are South Asian is 3.98%. The percentage of South Asian who are autistics is 20.88%.\n",
    "\n",
    "The percentage of autistics who are Turkish is 0.00%. The percentage of Turkish who are autistics is 0.00%."
   ]
  },
  {
   "cell_type": "code",
   "execution_count": 908,
   "metadata": {},
   "outputs": [
    {
     "name": "stdout",
     "output_type": "stream",
     "text": [
      "The training accuracy score is 0.75\n",
      "The testing accuracy score is 0.69\n",
      "The percentage of autistics who are female is 48.30%\n",
      "The percentage of autistics who are male is 51.70%\n",
      "The percentage of women who are autistic is 27.09%\n",
      "The percentage of men who are autistic is 26.63%\n"
     ]
    }
   ],
   "source": [
    "# Gender, BernoulliNB\n",
    "whole_set = pd.get_dummies(autism_data)\n",
    "x = whole_set[['Gender_F']]\n",
    "x = x.values.reshape(-1,1)\n",
    "y = (autism_data.ASD == 'YES').values.astype(np.int)\n",
    "x_training, x_testing, y_training, y_testing = train_test_split(x,y)\n",
    "clf = BernoulliNB().fit(x_training, y_training)\n",
    "ASD_who_are_female = np.mean(x_testing==1)*100\n",
    "ASD_who_are_male = np.mean(x_testing==0)*100\n",
    "proportion_of_women_with_ASD = ASD_who_are_female*189/337 \n",
    "proportion_of_men_with_ASD = ASD_who_are_male*189/367\n",
    "\n",
    "print(\"The training accuracy score is {:0.2f}\".format(clf.score(x_training,y_training)))\n",
    "print(\"The testing accuracy score is {:0.2f}\".format(clf.score(x_testing,y_testing)))\n",
    "print(\"The percentage of autistics who are female is {:0.2f}%\".format(ASD_who_are_female))\n",
    "print(\"The percentage of autistics who are male is {:0.2f}%\".format(ASD_who_are_male))\n",
    "print(\"The percentage of women who are autistic is {:0.2f}%\".format(proportion_of_women_with_ASD))\n",
    "print(\"The percentage of men who are autistic is {:0.2f}%\".format(proportion_of_men_with_ASD))"
   ]
  },
  {
   "cell_type": "markdown",
   "metadata": {},
   "source": [
    "The two Naive Bayes models offer some interesting insights into the percentage composition. The Multinomial NB showed that autistics are most likely to be of either Asian or White-European ethnicity. However, Hispanic/Latinos and Asians are the ethnicities with larger percentages of autistics. Interstingly, the Bernoulli NB showed that the percentage of autistics who are female is lower than the percentage of autistics who are male. This shows that White-Europeans are the most likely to be diagnosed with ASD. "
   ]
  },
  {
   "cell_type": "code",
   "execution_count": null,
   "metadata": {},
   "outputs": [],
   "source": []
  }
 ],
 "metadata": {
  "kernelspec": {
   "display_name": "Python 3",
   "language": "python",
   "name": "python3"
  },
  "language_info": {
   "codemirror_mode": {
    "name": "ipython",
    "version": 3
   },
   "file_extension": ".py",
   "mimetype": "text/x-python",
   "name": "python",
   "nbconvert_exporter": "python",
   "pygments_lexer": "ipython3",
   "version": "3.6.5"
  }
 },
 "nbformat": 4,
 "nbformat_minor": 2
}
